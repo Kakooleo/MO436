{
 "cells": [
  {
   "cell_type": "markdown",
   "metadata": {},
   "source": [
    "# Importing Data"
   ]
  },
  {
   "cell_type": "code",
   "execution_count": 2,
   "metadata": {},
   "outputs": [],
   "source": [
    "import pandas as pd\n",
    "import numpy as np\n",
    "from pathlib import Path"
   ]
  },
  {
   "cell_type": "code",
   "execution_count": 12,
   "metadata": {},
   "outputs": [],
   "source": [
    "def readCreateDataframe(folder_path : Path, fake: bool = False) -> pd.DataFrame:\n",
    "    if not folder_path.is_dir():\n",
    "        raise ValueError(\"Folder path does not exist\")\n",
    "    data = []\n",
    "    for file in sorted(folder_path.iterdir()):\n",
    "        text = file.read_text()\n",
    "        if fake:\n",
    "            data.append([text, 1])\n",
    "        else:\n",
    "            data.append([text, 0])\n",
    "    return pd.DataFrame(data, columns=[\"text\", \"label\"])"
   ]
  },
  {
   "cell_type": "code",
   "execution_count": 15,
   "metadata": {},
   "outputs": [],
   "source": [
    "df_fake = readCreateDataframe(Path(\"Data/full_texts/fake\"), fake=True)\n",
    "df_true = readCreateDataframe(Path(\"Data/full_texts/true\"), fake=False)"
   ]
  },
  {
   "cell_type": "code",
   "execution_count": 18,
   "metadata": {},
   "outputs": [
    {
     "data": {
      "text/html": [
       "<div>\n",
       "<style scoped>\n",
       "    .dataframe tbody tr th:only-of-type {\n",
       "        vertical-align: middle;\n",
       "    }\n",
       "\n",
       "    .dataframe tbody tr th {\n",
       "        vertical-align: top;\n",
       "    }\n",
       "\n",
       "    .dataframe thead th {\n",
       "        text-align: right;\n",
       "    }\n",
       "</style>\n",
       "<table border=\"1\" class=\"dataframe\">\n",
       "  <thead>\n",
       "    <tr style=\"text-align: right;\">\n",
       "      <th></th>\n",
       "      <th>text</th>\n",
       "      <th>label</th>\n",
       "    </tr>\n",
       "  </thead>\n",
       "  <tbody>\n",
       "    <tr>\n",
       "      <th>0</th>\n",
       "      <td>© DPA Se chamar “Fátima” num país avesso ao q...</td>\n",
       "      <td>0</td>\n",
       "    </tr>\n",
       "    <tr>\n",
       "      <th>1</th>\n",
       "      <td>Esposa de Lula sofre AVC e está em estado grav...</td>\n",
       "      <td>1</td>\n",
       "    </tr>\n",
       "    <tr>\n",
       "      <th>2</th>\n",
       "      <td>Thiago Lacerda solta o verbo: \"Artistas defend...</td>\n",
       "      <td>1</td>\n",
       "    </tr>\n",
       "    <tr>\n",
       "      <th>3</th>\n",
       "      <td>Barbosa : \"Michel Temer não tem legitimidade p...</td>\n",
       "      <td>1</td>\n",
       "    </tr>\n",
       "    <tr>\n",
       "      <th>4</th>\n",
       "      <td>Barroso: \"Criamos uma sociedade cheia de ricos...</td>\n",
       "      <td>1</td>\n",
       "    </tr>\n",
       "    <tr>\n",
       "      <th>...</th>\n",
       "      <td>...</td>\n",
       "      <td>...</td>\n",
       "    </tr>\n",
       "    <tr>\n",
       "      <th>7195</th>\n",
       "      <td>Festejos ao Dois de Julho reúnem famílias e tê...</td>\n",
       "      <td>0</td>\n",
       "    </tr>\n",
       "    <tr>\n",
       "      <th>7196</th>\n",
       "      <td>Candidato Luiz Castro participa de entrevista ...</td>\n",
       "      <td>0</td>\n",
       "    </tr>\n",
       "    <tr>\n",
       "      <th>7197</th>\n",
       "      <td>BNDES e FRIBOI: Uma das famílias mais poderosa...</td>\n",
       "      <td>1</td>\n",
       "    </tr>\n",
       "    <tr>\n",
       "      <th>7198</th>\n",
       "      <td>Vaquinha virtual da Dona Dilma já conseguiu ar...</td>\n",
       "      <td>1</td>\n",
       "    </tr>\n",
       "    <tr>\n",
       "      <th>7199</th>\n",
       "      <td>Psiquiatra emite diagnóstico de Lula: \"Persona...</td>\n",
       "      <td>1</td>\n",
       "    </tr>\n",
       "  </tbody>\n",
       "</table>\n",
       "<p>7200 rows × 2 columns</p>\n",
       "</div>"
      ],
      "text/plain": [
       "                                                   text  label\n",
       "0      © DPA Se chamar “Fátima” num país avesso ao q...      0\n",
       "1     Esposa de Lula sofre AVC e está em estado grav...      1\n",
       "2     Thiago Lacerda solta o verbo: \"Artistas defend...      1\n",
       "3     Barbosa : \"Michel Temer não tem legitimidade p...      1\n",
       "4     Barroso: \"Criamos uma sociedade cheia de ricos...      1\n",
       "...                                                 ...    ...\n",
       "7195  Festejos ao Dois de Julho reúnem famílias e tê...      0\n",
       "7196  Candidato Luiz Castro participa de entrevista ...      0\n",
       "7197  BNDES e FRIBOI: Uma das famílias mais poderosa...      1\n",
       "7198  Vaquinha virtual da Dona Dilma já conseguiu ar...      1\n",
       "7199  Psiquiatra emite diagnóstico de Lula: \"Persona...      1\n",
       "\n",
       "[7200 rows x 2 columns]"
      ]
     },
     "execution_count": 18,
     "metadata": {},
     "output_type": "execute_result"
    }
   ],
   "source": [
    "df = pd.concat([df_fake, df_true], ignore_index=True)\n",
    "df.reset_index(drop=True, inplace=True)\n",
    "df = df.sample(frac=1, random_state=461249612).reset_index(drop=True) # to shuffle the data\n",
    "df"
   ]
  },
  {
   "cell_type": "code",
   "execution_count": 19,
   "metadata": {},
   "outputs": [],
   "source": [
    "del df_fake, df_true"
   ]
  }
 ],
 "metadata": {
  "kernelspec": {
   "display_name": "Vagao",
   "language": "python",
   "name": "python3"
  },
  "language_info": {
   "codemirror_mode": {
    "name": "ipython",
    "version": 3
   },
   "file_extension": ".py",
   "mimetype": "text/x-python",
   "name": "python",
   "nbconvert_exporter": "python",
   "pygments_lexer": "ipython3",
   "version": "3.12.3"
  }
 },
 "nbformat": 4,
 "nbformat_minor": 2
}
